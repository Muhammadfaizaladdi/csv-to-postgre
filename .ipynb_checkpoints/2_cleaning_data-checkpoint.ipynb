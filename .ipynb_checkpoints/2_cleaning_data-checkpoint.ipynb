{
 "cells": [
  {
   "cell_type": "code",
   "execution_count": 42,
   "id": "faf555a1-9f45-44b2-939a-01ad8c34ab7e",
   "metadata": {},
   "outputs": [],
   "source": [
    "import pandas as pd\n",
    "import numpy as np\n"
   ]
  },
  {
   "cell_type": "code",
   "execution_count": 43,
   "id": "00fe24cb-3e09-4b44-8144-46f9d7bdf31f",
   "metadata": {},
   "outputs": [],
   "source": [
    "PATH_CUSTOMERS = 'output/customers_data.csv'\n",
    "PATH_ORDERS = 'output/orders_data.csv'\n",
    "PATH_PRODUCTS = 'output/products_data.csv'"
   ]
  },
  {
   "cell_type": "markdown",
   "id": "a7c7c107-94c5-4c14-a0b7-49bcdbdbed45",
   "metadata": {},
   "source": [
    "### Inspect Duplicate"
   ]
  },
  {
   "cell_type": "markdown",
   "id": "b64a062b-f5ae-4d08-bda4-af3d93f3aacb",
   "metadata": {},
   "source": [
    "#### Customer Data"
   ]
  },
  {
   "cell_type": "code",
   "execution_count": 45,
   "id": "54816405-15ea-4d5a-a4d5-82b4a14ce4c9",
   "metadata": {},
   "outputs": [
    {
     "data": {
      "text/plain": [
       "True     5084\n",
       "False    4910\n",
       "dtype: int64"
      ]
     },
     "execution_count": 45,
     "metadata": {},
     "output_type": "execute_result"
    }
   ],
   "source": [
    "customers_data.duplicated().value_counts()"
   ]
  },
  {
   "cell_type": "markdown",
   "id": "7e44e4a0-2589-40d5-a166-a7c7f9fa7c67",
   "metadata": {},
   "source": [
    "##### Product Data"
   ]
  },
  {
   "cell_type": "code",
   "execution_count": 46,
   "id": "7ae21b80-2d75-4036-8e87-f48a27f82993",
   "metadata": {},
   "outputs": [
    {
     "data": {
      "text/plain": [
       "True     8100\n",
       "False    1894\n",
       "dtype: int64"
      ]
     },
     "execution_count": 46,
     "metadata": {},
     "output_type": "execute_result"
    }
   ],
   "source": [
    "products_data.duplicated().value_counts()"
   ]
  },
  {
   "cell_type": "markdown",
   "id": "dda53af6-6ae9-4c61-a51f-225cbb89fe0e",
   "metadata": {},
   "source": [
    "##### Order Data"
   ]
  },
  {
   "cell_type": "code",
   "execution_count": 47,
   "id": "1074b4dc-224a-423c-8e84-61f24f4d4783",
   "metadata": {},
   "outputs": [
    {
     "data": {
      "text/plain": [
       "False    5009\n",
       "True     4985\n",
       "dtype: int64"
      ]
     },
     "execution_count": 47,
     "metadata": {},
     "output_type": "execute_result"
    }
   ],
   "source": [
    "orders_data.duplicated().value_counts()"
   ]
  },
  {
   "cell_type": "code",
   "execution_count": 48,
   "id": "4bb5ee8b-d210-48f4-8163-4423c10352c7",
   "metadata": {},
   "outputs": [
    {
     "data": {
      "text/plain": [
       "False    9993\n",
       "True        1\n",
       "dtype: int64"
      ]
     },
     "execution_count": 48,
     "metadata": {},
     "output_type": "execute_result"
    }
   ],
   "source": [
    "transactions_data.duplicated().value_counts()"
   ]
  },
  {
   "cell_type": "markdown",
   "id": "d00f216a-ce7f-445d-9bdd-c183c8641280",
   "metadata": {},
   "source": [
    "### Drop duplicate data"
   ]
  },
  {
   "cell_type": "code",
   "execution_count": 60,
   "id": "804819d1-c186-475a-b5fb-f6a42f491966",
   "metadata": {},
   "outputs": [],
   "source": [
    "def drop_duplicated(dataset, \n",
    "                    keep=None, \n",
    "                    inplace=False,\n",
    "                    ignore_index=True,\n",
    "                    save_file=True,\n",
    "                    out_file_name = None,\n",
    "                    return_file=True):\n",
    "    \n",
    "    dataset = dataset.drop_duplicates(keep=keep, inplace=inplace, ignore_index=ignore_index)\n",
    "    \n",
    "    if save_file:\n",
    "        dataset.to_csv(\"output/\"+out_file_name+'_clean.csv', index=ignore_index)\n",
    "        \n",
    "    if return_file:\n",
    "        return dataset    "
   ]
  },
  {
   "cell_type": "code",
   "execution_count": 63,
   "id": "116553fc-48e2-42a1-b75c-6f7e3fe22b7b",
   "metadata": {},
   "outputs": [],
   "source": [
    "def run():\n",
    "        for data in dataset:\n",
    "        drop_duplicated(dataset[data], keep='first', out_file_name=data)"
   ]
  },
  {
   "cell_type": "code",
   "execution_count": 66,
   "id": "bf9a7163-201e-46cd-85a1-94cbca808b38",
   "metadata": {},
   "outputs": [
    {
     "name": "stdout",
     "output_type": "stream",
     "text": [
      "-------------------------cleaning process done-----------------------------\n"
     ]
    }
   ],
   "source": [
    "if __name__ == '__main__':\n",
    "    run()\n",
    "    print(\"-------------------------cleaning process done-----------------------------\")"
   ]
  }
 ],
 "metadata": {
  "kernelspec": {
   "display_name": "Python 3 (ipykernel)",
   "language": "python",
   "name": "python3"
  },
  "language_info": {
   "codemirror_mode": {
    "name": "ipython",
    "version": 3
   },
   "file_extension": ".py",
   "mimetype": "text/x-python",
   "name": "python",
   "nbconvert_exporter": "python",
   "pygments_lexer": "ipython3",
   "version": "3.8.8"
  }
 },
 "nbformat": 4,
 "nbformat_minor": 5
}
