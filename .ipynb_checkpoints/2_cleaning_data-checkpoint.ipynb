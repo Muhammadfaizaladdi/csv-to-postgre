{
 "cells": [
  {
   "cell_type": "code",
   "execution_count": 42,
   "id": "faf555a1-9f45-44b2-939a-01ad8c34ab7e",
   "metadata": {},
   "outputs": [],
   "source": [
    "import pandas as pd\n",
    "import numpy as np\n"
   ]
  },
  {
   "cell_type": "code",
   "execution_count": 43,
   "id": "00fe24cb-3e09-4b44-8144-46f9d7bdf31f",
   "metadata": {},
   "outputs": [],
   "source": [
    "PATH_CUSTOMERS = 'output/customers_data.csv'\n",
    "PATH_ORDERS = 'output/orders_data.csv'\n",
    "PATH_PRODUCTS = 'output/products_data.csv'"
   ]
  },
  {
   "cell_type": "markdown",
   "id": "a7c7c107-94c5-4c14-a0b7-49bcdbdbed45",
   "metadata": {},
   "source": [
    "### Inspect Duplicate"
   ]
  },
  {
   "cell_type": "markdown",
   "id": "b64a062b-f5ae-4d08-bda4-af3d93f3aacb",
   "metadata": {},
   "source": [
    "#### Customer Data"
   ]
  },
  {
   "cell_type": "code",
   "execution_count": 45,
   "id": "54816405-15ea-4d5a-a4d5-82b4a14ce4c9",
   "metadata": {},
   "outputs": [
    {
     "data": {
      "text/plain": [
       "True     5084\n",
       "False    4910\n",
       "dtype: int64"
      ]
     },
     "execution_count": 45,
     "metadata": {},
     "output_type": "execute_result"
    }
   ],
   "source": [
    "customers_data.duplicated().value_counts()"
   ]
  },
  {
   "cell_type": "code",
   "execution_count": null,
   "id": "256f37f2-67ec-48da-b2e7-0008f540c24e",
   "metadata": {},
   "outputs": [],
   "source": [
    "customers_data[customers_data['customer_id'] == 'CG-12520']"
   ]
  },
  {
   "cell_type": "markdown",
   "id": "7e44e4a0-2589-40d5-a166-a7c7f9fa7c67",
   "metadata": {},
   "source": [
    "##### Product Data"
   ]
  },
  {
   "cell_type": "code",
   "execution_count": 46,
   "id": "7ae21b80-2d75-4036-8e87-f48a27f82993",
   "metadata": {},
   "outputs": [
    {
     "data": {
      "text/plain": [
       "True     8100\n",
       "False    1894\n",
       "dtype: int64"
      ]
     },
     "execution_count": 46,
     "metadata": {},
     "output_type": "execute_result"
    }
   ],
   "source": [
    "products_data.duplicated().value_counts()"
   ]
  },
  {
   "cell_type": "markdown",
   "id": "dda53af6-6ae9-4c61-a51f-225cbb89fe0e",
   "metadata": {},
   "source": [
    "##### Order Data"
   ]
  },
  {
   "cell_type": "code",
   "execution_count": 47,
   "id": "1074b4dc-224a-423c-8e84-61f24f4d4783",
   "metadata": {},
   "outputs": [
    {
     "data": {
      "text/plain": [
       "False    5009\n",
       "True     4985\n",
       "dtype: int64"
      ]
     },
     "execution_count": 47,
     "metadata": {},
     "output_type": "execute_result"
    }
   ],
   "source": [
    "orders_data.duplicated().value_counts()"
   ]
  },
  {
   "cell_type": "code",
   "execution_count": 48,
   "id": "4bb5ee8b-d210-48f4-8163-4423c10352c7",
   "metadata": {},
   "outputs": [
    {
     "data": {
      "text/plain": [
       "False    9993\n",
       "True        1\n",
       "dtype: int64"
      ]
     },
     "execution_count": 48,
     "metadata": {},
     "output_type": "execute_result"
    }
   ],
   "source": [
    "transactions_data.duplicated().value_counts()"
   ]
  },
  {
   "cell_type": "markdown",
   "id": "d00f216a-ce7f-445d-9bdd-c183c8641280",
   "metadata": {},
   "source": [
    "### Drop duplicate data"
   ]
  },
  {
   "cell_type": "code",
   "execution_count": 115,
   "id": "804819d1-c186-475a-b5fb-f6a42f491966",
   "metadata": {},
   "outputs": [],
   "source": [
    "def drop_duplicated(dataset, \n",
    "                    keep=None,\n",
    "                    subset = None,\n",
    "                    inplace=False,\n",
    "                    ignore_index=True):\n",
    "    \n",
    "    dataset = dataset.drop_duplicates(keep=keep,\n",
    "                                      subset=subset,\n",
    "                                      inplace=inplace, \n",
    "                                      ignore_index=ignore_index)\n",
    "    \n",
    "    return dataset    "
   ]
  },
  {
   "cell_type": "markdown",
   "id": "3f923a49-49db-44fb-9db4-e886b7685016",
   "metadata": {},
   "source": [
    "##### Inspect date Data"
   ]
  },
  {
   "cell_type": "code",
   "execution_count": 99,
   "id": "72989a89-36ad-4e15-887f-0f7c7906809c",
   "metadata": {},
   "outputs": [
    {
     "name": "stdout",
     "output_type": "stream",
     "text": [
      "<class 'pandas.core.frame.DataFrame'>\n",
      "RangeIndex: 9994 entries, 0 to 9993\n",
      "Data columns (total 4 columns):\n",
      " #   Column      Non-Null Count  Dtype \n",
      "---  ------      --------------  ----- \n",
      " 0   order_id    9994 non-null   object\n",
      " 1   order_date  9994 non-null   object\n",
      " 2   ship_date   9994 non-null   object\n",
      " 3   ship_mode   9994 non-null   object\n",
      "dtypes: object(4)\n",
      "memory usage: 312.4+ KB\n"
     ]
    }
   ],
   "source": [
    "orders_data.info()"
   ]
  },
  {
   "cell_type": "code",
   "execution_count": 100,
   "id": "7529288c-056d-40b5-b393-a81f31015120",
   "metadata": {},
   "outputs": [
    {
     "data": {
      "text/html": [
       "<div>\n",
       "<style scoped>\n",
       "    .dataframe tbody tr th:only-of-type {\n",
       "        vertical-align: middle;\n",
       "    }\n",
       "\n",
       "    .dataframe tbody tr th {\n",
       "        vertical-align: top;\n",
       "    }\n",
       "\n",
       "    .dataframe thead th {\n",
       "        text-align: right;\n",
       "    }\n",
       "</style>\n",
       "<table border=\"1\" class=\"dataframe\">\n",
       "  <thead>\n",
       "    <tr style=\"text-align: right;\">\n",
       "      <th></th>\n",
       "      <th>order_id</th>\n",
       "      <th>order_date</th>\n",
       "      <th>ship_date</th>\n",
       "      <th>ship_mode</th>\n",
       "    </tr>\n",
       "  </thead>\n",
       "  <tbody>\n",
       "    <tr>\n",
       "      <th>0</th>\n",
       "      <td>CA-2016-152156</td>\n",
       "      <td>11/8/2016</td>\n",
       "      <td>11/11/2016</td>\n",
       "      <td>Second Class</td>\n",
       "    </tr>\n",
       "    <tr>\n",
       "      <th>1</th>\n",
       "      <td>CA-2016-152156</td>\n",
       "      <td>11/8/2016</td>\n",
       "      <td>11/11/2016</td>\n",
       "      <td>Second Class</td>\n",
       "    </tr>\n",
       "  </tbody>\n",
       "</table>\n",
       "</div>"
      ],
      "text/plain": [
       "         order_id order_date   ship_date     ship_mode\n",
       "0  CA-2016-152156  11/8/2016  11/11/2016  Second Class\n",
       "1  CA-2016-152156  11/8/2016  11/11/2016  Second Class"
      ]
     },
     "execution_count": 100,
     "metadata": {},
     "output_type": "execute_result"
    }
   ],
   "source": [
    "orders_data.head(2)"
   ]
  },
  {
   "cell_type": "markdown",
   "id": "b04e976d-d71a-412e-a80a-e582164ff7e8",
   "metadata": {},
   "source": [
    "##### Parsing date"
   ]
  },
  {
   "cell_type": "code",
   "execution_count": 101,
   "id": "92b91d75-e439-4400-80d6-c44b0741035c",
   "metadata": {},
   "outputs": [],
   "source": [
    "def clean_date(dataset,\n",
    "               columns=None):\n",
    "    \n",
    "    for col in columns:\n",
    "        dataset[col] = pd.to_datetime(orders_data[col])\n",
    "        \n",
    "    return dataset"
   ]
  },
  {
   "cell_type": "code",
   "execution_count": 102,
   "id": "3045759c-3847-4cdf-855e-43ff808a4abd",
   "metadata": {},
   "outputs": [],
   "source": [
    "dataset = {'customers':customers_data, 'products': products_data, 'orders':orders_data, \n",
    "           'transactions':transactions_data}\n",
    "\n",
    "orders_columns_to_parse = [\"order_date\", \"ship_date\"]"
   ]
  },
  {
   "cell_type": "code",
   "execution_count": 116,
   "id": "116553fc-48e2-42a1-b75c-6f7e3fe22b7b",
   "metadata": {},
   "outputs": [],
   "source": [
    "def run(save_file=True):\n",
    "    for data in dataset:\n",
    "        \n",
    "        if data == \"customers\":\n",
    "            subset = [\"customer_id\", \"customer_name\"]\n",
    "            dataset[data] = drop_duplicated(dataset[data], subset=subset , keep='last')\n",
    "        else:\n",
    "            dataset[data] = drop_duplicated(dataset[data], keep='first')\n",
    "        \n",
    "        if data == 'orders':\n",
    "            clean_date(dataset[data], orders_columns_to_parse)    \n",
    "            \n",
    "        if save_file:\n",
    "            dataset[data].to_csv('output/'+data+'_clean.csv', index=False)\n",
    "            "
   ]
  },
  {
   "cell_type": "code",
   "execution_count": 117,
   "id": "bf9a7163-201e-46cd-85a1-94cbca808b38",
   "metadata": {},
   "outputs": [
    {
     "name": "stdout",
     "output_type": "stream",
     "text": [
      "-------------------------cleaning process done-----------------------------\n"
     ]
    }
   ],
   "source": [
    "if __name__ == '__main__':\n",
    "    run()\n",
    "    print(\"-------------------------cleaning process done-----------------------------\")"
   ]
  },
  {
   "cell_type": "code",
   "execution_count": null,
   "id": "bfd30e16-a3d8-42dd-8ab3-6267f04bb5b6",
   "metadata": {},
   "outputs": [],
   "source": []
  }
 ],
 "metadata": {
  "kernelspec": {
   "display_name": "Python 3 (ipykernel)",
   "language": "python",
   "name": "python3"
  },
  "language_info": {
   "codemirror_mode": {
    "name": "ipython",
    "version": 3
   },
   "file_extension": ".py",
   "mimetype": "text/x-python",
   "name": "python",
   "nbconvert_exporter": "python",
   "pygments_lexer": "ipython3",
   "version": "3.8.8"
  }
 },
 "nbformat": 4,
 "nbformat_minor": 5
}
